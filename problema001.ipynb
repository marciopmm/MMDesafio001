{
 "cells": [
  {
   "cell_type": "markdown",
   "metadata": {},
   "source": [
    "# MM - Problema 001\n",
    "\n",
    "## Descrição:\n",
    "\n",
    "Dada uma lista de números e um número *k*, retorne quando quaisquer dois números da lista, adicionados, resultam em *k*.\n",
    "\n",
    "Por exemplo: dada a lista [10, 15, 3, 7] e *k* = 17, retorne True (Verdadeiro), pois 10 + 7 = 17.\n",
    "\n",
    "**Bonus**: *Você consegue fazer em uma linha?*"
   ]
  },
  {
   "cell_type": "code",
   "execution_count": 15,
   "metadata": {},
   "outputs": [],
   "source": [
    "def verifica_lista(lst, k):\n",
    "    if len(lst) == 1:\n",
    "        return False\n",
    "\n",
    "    temp = lst[0]\n",
    "    print (temp)\n",
    "    \n",
    "    for item in lst:\n",
    "        print (f\"temp + item = {temp + item}\")\n",
    "        if temp + item == k:\n",
    "            return True  \n",
    "\n",
    "    return verifica_lista(lst[1:], k)\n",
    "            "
   ]
  },
  {
   "cell_type": "code",
   "execution_count": null,
   "metadata": {},
   "outputs": [],
   "source": [
    "lista = [15, 3, 10, 7, 4, 23, 32, 92] # Como no exemplo\n",
    "num_k = 39\n",
    "\n",
    "verifica_lista(lista, num_k)"
   ]
  }
 ],
 "metadata": {
  "kernelspec": {
   "display_name": "Python 3.10.7 64-bit",
   "language": "python",
   "name": "python3"
  },
  "language_info": {
   "codemirror_mode": {
    "name": "ipython",
    "version": 3
   },
   "file_extension": ".py",
   "mimetype": "text/x-python",
   "name": "python",
   "nbconvert_exporter": "python",
   "pygments_lexer": "ipython3",
   "version": "3.10.7"
  },
  "orig_nbformat": 4,
  "vscode": {
   "interpreter": {
    "hash": "aee8b7b246df8f9039afb4144a1f6fd8d2ca17a180786b69acc140d282b71a49"
   }
  }
 },
 "nbformat": 4,
 "nbformat_minor": 2
}
