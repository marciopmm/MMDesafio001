{
 "cells": [
  {
   "attachments": {},
   "cell_type": "markdown",
   "metadata": {},
   "source": [
    "# MM - Problem 001\n",
    "\n",
    "## Description:\n",
    "\n",
    "Given a list of numbers and a number *k*, return when any two numbers in the list, added, result in *k*.\n",
    "\n",
    "e.g.: given the list [10, 15, 3, 7] and *k* = 17, return True so 10 + 7 = 17.\n",
    "\n",
    "**Bonus**: *Can you do this in ONE line?*"
   ]
  },
  {
   "cell_type": "code",
   "execution_count": 1,
   "metadata": {},
   "outputs": [],
   "source": [
    "def check_list(lst, k):\n",
    "    if len(lst) == 1:\n",
    "        return False\n",
    "\n",
    "    temp = lst[0]\n",
    "    print (temp)\n",
    "    \n",
    "    for item in lst:\n",
    "        print (f\"temp + item = {temp + item}\")\n",
    "        if temp + item == k:\n",
    "            return True  \n",
    "\n",
    "    return check_list(lst[1:], k)\n",
    "            "
   ]
  },
  {
   "cell_type": "code",
   "execution_count": 2,
   "metadata": {},
   "outputs": [
    {
     "name": "stdout",
     "output_type": "stream",
     "text": [
      "15\n",
      "temp + item = 30\n",
      "temp + item = 18\n",
      "temp + item = 25\n",
      "temp + item = 22\n",
      "temp + item = 19\n",
      "temp + item = 38\n",
      "temp + item = 47\n",
      "temp + item = 107\n",
      "3\n",
      "temp + item = 6\n",
      "temp + item = 13\n",
      "temp + item = 10\n",
      "temp + item = 7\n",
      "temp + item = 26\n",
      "temp + item = 35\n",
      "temp + item = 95\n",
      "10\n",
      "temp + item = 20\n",
      "temp + item = 17\n",
      "temp + item = 14\n",
      "temp + item = 33\n",
      "temp + item = 42\n",
      "temp + item = 102\n",
      "7\n",
      "temp + item = 14\n",
      "temp + item = 11\n",
      "temp + item = 30\n",
      "temp + item = 39\n"
     ]
    },
    {
     "data": {
      "text/plain": [
       "True"
      ]
     },
     "execution_count": 2,
     "metadata": {},
     "output_type": "execute_result"
    }
   ],
   "source": [
    "list = [15, 3, 10, 7, 4, 23, 32, 92] # Like below\n",
    "num_k = 39\n",
    "\n",
    "check_list(list, num_k)"
   ]
  }
 ],
 "metadata": {
  "kernelspec": {
   "display_name": "Python 3.10.7 64-bit",
   "language": "python",
   "name": "python3"
  },
  "language_info": {
   "codemirror_mode": {
    "name": "ipython",
    "version": 3
   },
   "file_extension": ".py",
   "mimetype": "text/x-python",
   "name": "python",
   "nbconvert_exporter": "python",
   "pygments_lexer": "ipython3",
   "version": "3.10.7"
  },
  "orig_nbformat": 4,
  "vscode": {
   "interpreter": {
    "hash": "aee8b7b246df8f9039afb4144a1f6fd8d2ca17a180786b69acc140d282b71a49"
   }
  }
 },
 "nbformat": 4,
 "nbformat_minor": 2
}
